{
 "cells": [
  {
   "attachments": {},
   "cell_type": "markdown",
   "metadata": {},
   "source": [
    "# Aare Guru Beispiel\n",
    "\n",
    "Nun wozu definieren wir diese Daten-Modelle in Python?\n",
    "\n",
    "Es ist eine generelle Bad-Pratcise immer nur mit `dict`, `list`, `set`, etc. zu arbeiten.\n",
    "Man nennt das auch \"Primitive obsession\".\n",
    "\n",
    "Der Code bleibt deutlich sauberer und einfacher zu testen, wenn wir Daten in ein vordefiniertes Format laden,\n",
    "sobald diese in unsere Applikation reinkommen.\n",
    "\n",
    "Dafür ist Pydantic prädestiniert.\n",
    "\n",
    "Als Beispiel neben wir eine API-Response von aare.guru.\n",
    "\n",
    "Die API response ist ziemlich lang, wir nehmen nur einen Teil davon:"
   ]
  },
  {
   "cell_type": "code",
   "execution_count": 1,
   "metadata": {},
   "outputs": [],
   "source": [
    "aare_guru: dict = {\n",
    "    \"aare\": {\n",
    "        \"location\": \"B\\u00e4rn\",\n",
    "        \"location_long\": \"Bern, Sch\\u00f6nau\",\n",
    "        \"coordinates\": {\n",
    "            \"lat\": 46.93,\n",
    "            \"lon\": 7.45\n",
    "        },\n",
    "        \"forecast\": False,\n",
    "        \"timestamp\": 1683631200,\n",
    "        \"timestring\": \"13:20\",\n",
    "        \"temperature\": 12.5,\n",
    "        \"temperature_prec\": 12.49,\n",
    "        \"temperature_text\": \"Uschaflig chaut\",\n",
    "        \"temperature_text_short\": \"Uuuh chaut\",\n",
    "        \"flow\": 247,\n",
    "        \"flow_text\": \"ender viu\",\n",
    "        \"forecast2h\": 12.7,\n",
    "        \"forecast2h_text\": \"Blibt \\u00e4u\\u00e4 \\u00f6pe glich\",\n",
    "    }\n",
    "}"
   ]
  },
  {
   "attachments": {},
   "cell_type": "markdown",
   "metadata": {},
   "source": [
    "Mit Pydantic können wir nun ein Datenmodell erstellen, dass bloss die Felder enthält, die für uns von Interesse sind."
   ]
  },
  {
   "cell_type": "code",
   "execution_count": 2,
   "metadata": {},
   "outputs": [],
   "source": [
    "from pydantic import BaseModel\n",
    "\n",
    "class MyAareCheck(BaseModel):\n",
    "    location: str\n",
    "    temperature: float\n",
    "    temperature_text: str\n"
   ]
  },
  {
   "attachments": {},
   "cell_type": "markdown",
   "metadata": {},
   "source": [
    "Nun können wir die Daten einlesen und auf die einzlenen Felder zugreifen."
   ]
  },
  {
   "cell_type": "code",
   "execution_count": 7,
   "metadata": {},
   "outputs": [
    {
     "name": "stdout",
     "output_type": "stream",
     "text": [
      "D'Aare z'Bärn isch 12.5 Grad. Ds isch Uschaflig chaut!\n"
     ]
    }
   ],
   "source": [
    "aare = MyAareCheck.parse_obj(aare_guru['aare'])\n",
    "\n",
    "print(f\"D'Aare z'{aare.location} isch {aare.temperature} Grad. Ds isch {aare.temperature_text}!\")"
   ]
  },
  {
   "attachments": {},
   "cell_type": "markdown",
   "metadata": {},
   "source": [
    "Schauen wir an, was passiert wenn wir falsche Daten erhalten"
   ]
  },
  {
   "cell_type": "code",
   "execution_count": 8,
   "metadata": {},
   "outputs": [
    {
     "ename": "ValidationError",
     "evalue": "3 validation errors for MyAareCheck\nlocation\n  field required (type=value_error.missing)\ntemperature\n  field required (type=value_error.missing)\ntemperature_text\n  field required (type=value_error.missing)",
     "output_type": "error",
     "traceback": [
      "\u001b[0;31m---------------------------------------------------------------------------\u001b[0m",
      "\u001b[0;31mValidationError\u001b[0m                           Traceback (most recent call last)",
      "Cell \u001b[0;32mIn[8], line 3\u001b[0m\n\u001b[1;32m      1\u001b[0m broken_response: \u001b[39mdict\u001b[39m \u001b[39m=\u001b[39m {\u001b[39m'\u001b[39m\u001b[39mshizzle\u001b[39m\u001b[39m'\u001b[39m: \u001b[39mTrue\u001b[39;00m}\n\u001b[0;32m----> 3\u001b[0m aare \u001b[39m=\u001b[39m MyAareCheck\u001b[39m.\u001b[39;49mparse_obj(broken_response)\n",
      "File \u001b[0;32m~/Documents/code/checkmk_schulung/venv/lib/python3.8/site-packages/pydantic/main.py:526\u001b[0m, in \u001b[0;36mpydantic.main.BaseModel.parse_obj\u001b[0;34m()\u001b[0m\n",
      "File \u001b[0;32m~/Documents/code/checkmk_schulung/venv/lib/python3.8/site-packages/pydantic/main.py:342\u001b[0m, in \u001b[0;36mpydantic.main.BaseModel.__init__\u001b[0;34m()\u001b[0m\n",
      "\u001b[0;31mValidationError\u001b[0m: 3 validation errors for MyAareCheck\nlocation\n  field required (type=value_error.missing)\ntemperature\n  field required (type=value_error.missing)\ntemperature_text\n  field required (type=value_error.missing)"
     ]
    }
   ],
   "source": [
    "broken_response: dict = {'shizzle': True}\n",
    "\n",
    "aare = MyAareCheck.parse_obj(broken_response)"
   ]
  },
  {
   "attachments": {},
   "cell_type": "markdown",
   "metadata": {},
   "source": [
    "Wie du sehen kannst, wir kriegen einen `ValidationError`.\n",
    "\n",
    "Das ist gut so, wir sollen ja keine falschen Daten weiterverarbeiten. Da wir unser Datenmodell strikt definieren mit Pydantic, müssen wir das Error-Handling für den Input nur an einer Stelle machen."
   ]
  },
  {
   "cell_type": "code",
   "execution_count": 13,
   "metadata": {},
   "outputs": [
    {
     "name": "stdout",
     "output_type": "stream",
     "text": [
      "Error of type ValidationError occured! Aborting!\n"
     ]
    }
   ],
   "source": [
    "from pydantic import ValidationError\n",
    "\n",
    "try:\n",
    "    aare = MyAareCheck.parse_obj(broken_response)\n",
    "except ValidationError as err:\n",
    "    # do error handling here\n",
    "    print(f'Error of type {err.__class__.__name__} occured! Aborting!')\n",
    "\n"
   ]
  },
  {
   "cell_type": "markdown",
   "metadata": {},
   "source": []
  }
 ],
 "metadata": {
  "kernelspec": {
   "display_name": "venv",
   "language": "python",
   "name": "python3"
  },
  "language_info": {
   "codemirror_mode": {
    "name": "ipython",
    "version": 3
   },
   "file_extension": ".py",
   "mimetype": "text/x-python",
   "name": "python",
   "nbconvert_exporter": "python",
   "pygments_lexer": "ipython3",
   "version": "3.8.8"
  },
  "orig_nbformat": 4
 },
 "nbformat": 4,
 "nbformat_minor": 2
}
