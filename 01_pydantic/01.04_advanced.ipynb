{
 "cells": [
  {
   "attachments": {},
   "cell_type": "markdown",
   "metadata": {},
   "source": [
    "# Level up!\n",
    "\n",
    "Schauen wir nun einige Fortgeschrittene Fälle an:\n",
    "1. Ein Feld kann auch mehrere Datentypen unterstützen\n",
    "2. Wir wollen, dass ein Feld einen anderen Namen hat im Pydantic-Model, als es im JSON definiert ist\n",
    "3. Benutzerdefinierte Validierung\n",
    "\n",
    "Machen wir das Schritt für Schritt."
   ]
  },
  {
   "attachments": {},
   "cell_type": "markdown",
   "metadata": {},
   "source": [
    "__Mehrere Datentypen__\n",
    "\n",
    "Folgendes Beispiel zeigt, wie ein Pydantic mehrere Typen in einem Field untersützen kann."
   ]
  },
  {
   "cell_type": "code",
   "execution_count": 1,
   "metadata": {},
   "outputs": [
    {
     "name": "stdout",
     "output_type": "stream",
     "text": [
      "example 1: 1 (type=<class 'int'>)\n",
      "example 2: one (type=<class 'str'>)\n"
     ]
    }
   ],
   "source": [
    "from pydantic import BaseModel\n",
    "from typing import Union\n",
    "\n",
    "class ShittyAPI(BaseModel):\n",
    "    value: Union[int, str]\n",
    "    # more modern syntax in Python3.10\n",
    "    #>>> value: str | int\n",
    "\n",
    "\n",
    "input: dict = {'value': 1}\n",
    "parsed = ShittyAPI.parse_obj(input)\n",
    "print(f'example 1: {parsed.value} (type={type(parsed.value)})')\n",
    "\n",
    "\n",
    "another_input: dict = {'value': 'one'}\n",
    "parsed = ShittyAPI.parse_obj(another_input)\n",
    "print(f'example 2: {parsed.value} (type={type(parsed.value)})')\n"
   ]
  },
  {
   "attachments": {},
   "cell_type": "markdown",
   "metadata": {},
   "source": [
    "__Benutzerdefinierte Felder-Namen__\n",
    "\n",
    "Wir wollen, dass ein Feld einen anderen Namen hat im Pydantic-Model, als es im JSON definiert ist."
   ]
  },
  {
   "cell_type": "code",
   "execution_count": 2,
   "metadata": {},
   "outputs": [
    {
     "data": {
      "text/plain": [
       "ShittyAPI(properly_named_field=111)"
      ]
     },
     "execution_count": 2,
     "metadata": {},
     "output_type": "execute_result"
    }
   ],
   "source": [
    "from pydantic import BaseModel, Field\n",
    "\n",
    "\n",
    "class ShittyAPI(BaseModel):\n",
    "    properly_named_field: int = Field(..., alias=\"super_stupid_propertiy_name\")\n",
    "\n",
    "input: dict = {'super_stupid_propertiy_name': 111}\n",
    "ShittyAPI.parse_obj(input)\n"
   ]
  },
  {
   "attachments": {},
   "cell_type": "markdown",
   "metadata": {},
   "source": [
    "__Benutzerdefinierte Validierung__\n",
    "\n",
    "Wir können auch selbst Validatoren definieren. Dazu schauen wir das offizielle Pydantic Beispiel an:\n",
    "\n",
    "https://docs.pydantic.dev/latest/usage/validators/\n"
   ]
  },
  {
   "cell_type": "code",
   "execution_count": 3,
   "metadata": {},
   "outputs": [],
   "source": [
    "from pydantic import BaseModel, ValidationError, validator\n",
    "\n",
    "\n",
    "class UserModel(BaseModel):\n",
    "    name: str\n",
    "    username: str\n",
    "    password1: str\n",
    "    password2: str\n",
    "\n",
    "    @validator('name')\n",
    "    def name_must_contain_space(cls, v):\n",
    "        if ' ' not in v:\n",
    "            raise ValueError('must contain a space')\n",
    "        return v.title()\n",
    "\n",
    "    @validator('password2')\n",
    "    def passwords_match(cls, v, values, **kwargs):\n",
    "        if 'password1' in values and v != values['password1']:\n",
    "            raise ValueError('passwords do not match')\n",
    "        return v\n",
    "\n",
    "    @validator('username')\n",
    "    def username_alphanumeric(cls, v):\n",
    "        assert v.isalnum(), 'must be alphanumeric'\n",
    "        return v\n",
    "\n"
   ]
  },
  {
   "attachments": {},
   "cell_type": "markdown",
   "metadata": {},
   "source": [
    "Sofern wir alles korrekt eingeben, wird das UserModel erfolgreich initalisiert"
   ]
  },
  {
   "cell_type": "code",
   "execution_count": 4,
   "metadata": {},
   "outputs": [
    {
     "name": "stdout",
     "output_type": "stream",
     "text": [
      "name='Samuel Colvin' username='scolvin' password1='zxcvbn' password2='zxcvbn'\n"
     ]
    }
   ],
   "source": [
    "user = UserModel(\n",
    "    name='samuel colvin',\n",
    "    username='scolvin',\n",
    "    password1='zxcvbn',\n",
    "    password2='zxcvbn',\n",
    ")\n",
    "print(user)\n",
    "#> name='Samuel Colvin' username='scolvin' password1='zxcvbn' password2='zxcvbn'\n",
    "\n"
   ]
  },
  {
   "attachments": {},
   "cell_type": "markdown",
   "metadata": {},
   "source": [
    "Bei fehlerhaftem Input wirft es hingegen einen Fehler."
   ]
  },
  {
   "cell_type": "code",
   "execution_count": 5,
   "metadata": {},
   "outputs": [
    {
     "name": "stdout",
     "output_type": "stream",
     "text": [
      "2 validation errors for UserModel\n",
      "name\n",
      "  must contain a space (type=value_error)\n",
      "password2\n",
      "  passwords do not match (type=value_error)\n"
     ]
    }
   ],
   "source": [
    "try:\n",
    "    UserModel(\n",
    "        name='samuel',\n",
    "        username='scolvin',\n",
    "        password1='zxcvbn',\n",
    "        password2='zxcvbn2',\n",
    "    )\n",
    "except ValidationError as e:\n",
    "    print(e)\n",
    "    \"\"\"\n",
    "    2 validation errors for UserModel\n",
    "    name\n",
    "      must contain a space (type=value_error)\n",
    "    password2\n",
    "      passwords do not match (type=value_error)\n",
    "    \"\"\""
   ]
  }
 ],
 "metadata": {
  "kernelspec": {
   "display_name": "venv",
   "language": "python",
   "name": "python3"
  },
  "language_info": {
   "codemirror_mode": {
    "name": "ipython",
    "version": 3
   },
   "file_extension": ".py",
   "mimetype": "text/x-python",
   "name": "python",
   "nbconvert_exporter": "python",
   "pygments_lexer": "ipython3",
   "version": "3.8.8"
  },
  "orig_nbformat": 4
 },
 "nbformat": 4,
 "nbformat_minor": 2
}
