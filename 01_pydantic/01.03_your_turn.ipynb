{
 "cells": [
  {
   "attachments": {},
   "cell_type": "markdown",
   "metadata": {},
   "source": [
    "# Eine kleine Aufgabe zu Pydantic\n",
    "\n",
    "Lass uns ein Datenmodell für eine einfache API Response bauen.\n",
    "\n",
    "Die API response sieht folgendermassen aus:"
   ]
  },
  {
   "cell_type": "code",
   "execution_count": 1,
   "metadata": {},
   "outputs": [],
   "source": [
    "aare_city: dict = {\n",
    "    \"city\": \"brienz\",\n",
    "    \"name\": \"Brienz\",\n",
    "    \"longname\": \"Brienzwiler\",\n",
    "    \"coordinates\": {\n",
    "        \"lat\": 46.75,\n",
    "        \"lon\": 8.09\n",
    "    },\n",
    "    \"aare\": 7.8,  # temperature of aare\n",
    "    \"aare_prec\": 7.75,\n",
    "    \"sy\": 10,\n",
    "    \"tn\": 10,\n",
    "    \"tx\": 19,\n",
    "    \"forecast\": False,\n",
    "    \"time\": 1683643200,\n",
    "}"
   ]
  },
  {
   "attachments": {},
   "cell_type": "markdown",
   "metadata": {},
   "source": [
    "Erstelle ein Pydantic Modell, welches den Namen und die Temperatur der Aare beinhaltet.\n",
    "\n",
    "Das Argument `pass` kannst du entfernen, es dienst lediglich dazu, dass die Klasse keinen Syntax-Fehler produziert,\n",
    "während sie noch nicht fertig definiert ist."
   ]
  },
  {
   "cell_type": "code",
   "execution_count": 9,
   "metadata": {},
   "outputs": [
    {
     "name": "stdout",
     "output_type": "stream",
     "text": [
      "name='Brienz' aare=7.8\n"
     ]
    }
   ],
   "source": [
    "from pydantic import BaseModel\n",
    "\n",
    "\n",
    "class AareCity(BaseModel):\n",
    "    pass\n",
    "    # TODO your turn\n",
    "\n",
    "\n",
    "parsed_city = AareCity.parse_obj(aare_city)\n",
    "\n",
    "print(parsed_city)"
   ]
  },
  {
   "attachments": {},
   "cell_type": "markdown",
   "metadata": {},
   "source": [
    "Gehen wir einen Schritt weiter. Wir möchten gerne eine Liste von Objekten haben, da wir mehrere AareCity-Objekte haben:"
   ]
  },
  {
   "cell_type": "code",
   "execution_count": 3,
   "metadata": {},
   "outputs": [],
   "source": [
    "aare_cities: list = {\n",
    "    \"cities\": [\n",
    "        {\n",
    "            \"city\": \"brienz\",\n",
    "            \"name\": \"Brienz\",\n",
    "            \"longname\": \"Brienzwiler\",\n",
    "            \"coordinates\": {\n",
    "                \"lat\": 46.75,\n",
    "                \"lon\": 8.09\n",
    "            },\n",
    "            \"aare\": 7.8,\n",
    "            \"aare_prec\": 7.75,\n",
    "            \"sy\": 10,\n",
    "            \"tn\": 10,\n",
    "            \"tx\": 19,\n",
    "            \"forecast\": False,\n",
    "            \"time\": 1683643200,\n",
    "        },\n",
    "        {\n",
    "            \"city\": \"interlaken\",\n",
    "            \"name\": \"Interlake\",\n",
    "            \"longname\": \"Ringgenberg, Goldswil\",\n",
    "            \"coordinates\": {\n",
    "                \"lat\": 46.69,\n",
    "                \"lon\": 7.88\n",
    "            },\n",
    "            \"aare\": 11.4,\n",
    "            \"aare_prec\": 11.37,\n",
    "            \"sy\": 10,\n",
    "            \"tn\": 10,\n",
    "            \"tx\": 18,\n",
    "            \"forecast\": False,\n",
    "            \"time\": 1683643800,\n",
    "        },\n",
    "        {\n",
    "            \"city\": \"thun\",\n",
    "            \"name\": \"Thun\",\n",
    "            \"longname\": \"Thun\",\n",
    "            \"coordinates\": {\n",
    "                \"lat\": 46.76,\n",
    "                \"lon\": 7.61\n",
    "            },\n",
    "            \"aare\": 12,\n",
    "            \"aare_prec\": 11.99,\n",
    "            \"sy\": 10,\n",
    "            \"tn\": 10,\n",
    "            \"tx\": 18,\n",
    "            \"forecast\": False,\n",
    "            \"time\": 1683643800,\n",
    "        },\n",
    "    ]\n",
    "}"
   ]
  },
  {
   "attachments": {},
   "cell_type": "markdown",
   "metadata": {},
   "source": [
    "Erstelle eine Klasse, welche dies erreicht.\n",
    "\n",
    "Diese Seite kann dabei hilfreich sein: https://docs.pydantic.dev/latest/usage/types/"
   ]
  },
  {
   "cell_type": "code",
   "execution_count": 11,
   "metadata": {},
   "outputs": [],
   "source": [
    "class AareCities(BaseModel):\n",
    "    pass\n",
    "    # TODO your turn"
   ]
  },
  {
   "attachments": {},
   "cell_type": "markdown",
   "metadata": {},
   "source": [
    "Wenn folgender Code läuft, dann hast du die Aufgabe erfolgreich gelöst."
   ]
  },
  {
   "cell_type": "code",
   "execution_count": 13,
   "metadata": {},
   "outputs": [
    {
     "name": "stdout",
     "output_type": "stream",
     "text": [
      "cities=[AareCity(name='Brienz', aare=7.8), AareCity(name='Interlake', aare=11.4), AareCity(name='Thun', aare=12.0)]\n"
     ]
    }
   ],
   "source": [
    "parsed_cities = AareCities.parse_obj(aare_cities)\n",
    "\n",
    "print(parsed_cities)"
   ]
  }
 ],
 "metadata": {
  "kernelspec": {
   "display_name": "venv",
   "language": "python",
   "name": "python3"
  },
  "language_info": {
   "codemirror_mode": {
    "name": "ipython",
    "version": 3
   },
   "file_extension": ".py",
   "mimetype": "text/x-python",
   "name": "python",
   "nbconvert_exporter": "python",
   "pygments_lexer": "ipython3",
   "version": "3.8.8"
  },
  "orig_nbformat": 4
 },
 "nbformat": 4,
 "nbformat_minor": 2
}
