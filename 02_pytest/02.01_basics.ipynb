{
 "cells": [
  {
   "attachments": {},
   "cell_type": "markdown",
   "metadata": {},
   "source": [
    "# PyTest Grundlagen\n",
    "\n",
    "Damit wir eine gewisse Sicherheit haben, dass unser Code das macht, was wir wollen, schreiben wir Tests.\n",
    "\n",
    "Es sollen keine falschen Erwartungen im Raum stehen, Als Grundregel können wir davon ausgehen, dass das Schreiben von guten Tests, zirka so viel Zeit beansprucht, wie der eigentliche Code."
   ]
  },
  {
   "attachments": {},
   "cell_type": "markdown",
   "metadata": {},
   "source": [
    "_Da wir die PyTests in einem Jupyter Notebook ausführen, benötigen wir ipytest. Das ist bei der \"normalen\" Plugin-Entwicklung nicht der Fall. Daher den nächsten Teil einfach ausführen und nicht weiter beachten._"
   ]
  },
  {
   "cell_type": "code",
   "execution_count": 12,
   "metadata": {
    "tags": []
   },
   "outputs": [],
   "source": [
    "import ipytest\n",
    "\n",
    "ipytest.autoconfig()"
   ]
  },
  {
   "attachments": {},
   "cell_type": "markdown",
   "metadata": {},
   "source": [
    "## PyTests ausführen\n",
    "\n",
    "Schauen wir uns ein einfaches Beispiel an wie PyTests funktionieren.\n",
    "\n",
    "_(Auch hier die erste Zeile ignorieren)_"
   ]
  },
  {
   "cell_type": "code",
   "execution_count": 16,
   "metadata": {
    "tags": []
   },
   "outputs": [
    {
     "name": "stdout",
     "output_type": "stream",
     "text": [
      "\u001b[1m======================================= test session starts ========================================\u001b[0m\n",
      "platform darwin -- Python 3.8.8, pytest-7.4.0, pluggy-1.2.0 -- /Users/rogerio/Documents/code/checkmk_schulung/venv/bin/python\n",
      "cachedir: .pytest_cache\n",
      "rootdir: /Users/rogerio/Documents/code/checkmk_schulung/02_pytest\n",
      "\u001b[1mcollecting ... \u001b[0mcollected 1 item\n",
      "\n",
      "t_615d63d15d5240489427709eab27fbac.py::test_multiplication[2-5-10] \u001b[32mPASSED\u001b[0m\u001b[32m                    [100%]\u001b[0m\n",
      "\n",
      "\u001b[32m======================================== \u001b[32m\u001b[1m1 passed\u001b[0m\u001b[32m in 0.03s\u001b[0m\u001b[32m =========================================\u001b[0m\n"
     ]
    }
   ],
   "source": [
    "%%ipytest -vv\n",
    "\n",
    "import pytest\n",
    "@pytest.mark.parametrize(\n",
    "    \"input, multiply, output\",\n",
    "    [\n",
    "        (2, 5, 10),\n",
    "    ],\n",
    ")\n",
    "def test_multiplication(input, multiply, output) -> None:\n",
    "    assert input * multiply == output\n"
   ]
  },
  {
   "attachments": {},
   "cell_type": "markdown",
   "metadata": {},
   "source": [
    "Und was geschieht wenn ein Test fehlschlägt."
   ]
  },
  {
   "cell_type": "code",
   "execution_count": 17,
   "metadata": {},
   "outputs": [
    {
     "name": "stdout",
     "output_type": "stream",
     "text": [
      "\u001b[1m======================================= test session starts ========================================\u001b[0m\n",
      "platform darwin -- Python 3.8.8, pytest-7.4.0, pluggy-1.2.0 -- /Users/rogerio/Documents/code/checkmk_schulung/venv/bin/python\n",
      "cachedir: .pytest_cache\n",
      "rootdir: /Users/rogerio/Documents/code/checkmk_schulung/02_pytest\n",
      "\u001b[1mcollecting ... \u001b[0mcollected 1 item\n",
      "\n",
      "t_615d63d15d5240489427709eab27fbac.py::test_multiplication[2-6-10] \u001b[31mFAILED\u001b[0m\u001b[31m                    [100%]\u001b[0m\n",
      "\n",
      "============================================= FAILURES =============================================\n",
      "\u001b[31m\u001b[1m___________________________________ test_multiplication[2-6-10] ____________________________________\u001b[0m\n",
      "\n",
      "input = 2, multiply = 6, output = 10\n",
      "\n",
      "    \u001b[37m@pytest\u001b[39;49;00m.mark.parametrize(\u001b[90m\u001b[39;49;00m\n",
      "        \u001b[33m\"\u001b[39;49;00m\u001b[33minput, multiply, output\u001b[39;49;00m\u001b[33m\"\u001b[39;49;00m,\u001b[90m\u001b[39;49;00m\n",
      "        [\u001b[90m\u001b[39;49;00m\n",
      "            (\u001b[94m2\u001b[39;49;00m, \u001b[94m6\u001b[39;49;00m, \u001b[94m10\u001b[39;49;00m),\u001b[90m\u001b[39;49;00m\n",
      "        ],\u001b[90m\u001b[39;49;00m\n",
      "    )\u001b[90m\u001b[39;49;00m\n",
      "    \u001b[94mdef\u001b[39;49;00m \u001b[92mtest_multiplication\u001b[39;49;00m(\u001b[96minput\u001b[39;49;00m, multiply, output) -> \u001b[94mNone\u001b[39;49;00m:\u001b[90m\u001b[39;49;00m\n",
      ">       \u001b[94massert\u001b[39;49;00m \u001b[96minput\u001b[39;49;00m * multiply == output\u001b[90m\u001b[39;49;00m\n",
      "\u001b[1m\u001b[31mE       assert (2 * 6) == 10\u001b[0m\n",
      "\n",
      "\u001b[1m\u001b[31m/var/folders/k_/1xvj6wds0gs23h5ysp7pg9tm0000gp/T/ipykernel_37626/2581957772.py\u001b[0m:9: AssertionError\n",
      "\u001b[36m\u001b[1m===================================== short test summary info ======================================\u001b[0m\n",
      "\u001b[31mFAILED\u001b[0m t_615d63d15d5240489427709eab27fbac.py::\u001b[1mtest_multiplication[2-6-10]\u001b[0m - assert (2 * 6) == 10\n",
      "\u001b[31m======================================== \u001b[31m\u001b[1m1 failed\u001b[0m\u001b[31m in 0.10s\u001b[0m\u001b[31m =========================================\u001b[0m\n"
     ]
    }
   ],
   "source": [
    "%%ipytest -vv\n",
    "\n",
    "import pytest\n",
    "@pytest.mark.parametrize(\n",
    "    \"input, multiply, output\",\n",
    "    [\n",
    "        (2, 6, 10),\n",
    "    ],\n",
    ")\n",
    "def test_multiplication(input, multiply, output) -> None:\n",
    "    assert input * multiply == output"
   ]
  },
  {
   "attachments": {},
   "cell_type": "markdown",
   "metadata": {},
   "source": [
    "Wie du sehen kannst, gibt dir PyTest ein Diff aus, was nicht stimmt.\n",
    "\n",
    "Nun sind die Tests hier abolsut sinnlos, weil wir keine Funktionen testen.\n",
    "Normalerweise testen wir eine Funktion die wir aus einem anderen Package importieren.\n",
    "\n",
    "Dies werdet ihr aber sehen, sobald wir ein Plugin genauer anschauen.\n"
   ]
  }
 ],
 "metadata": {
  "kernelspec": {
   "display_name": "Python 3 (ipykernel)",
   "language": "python",
   "name": "python3"
  },
  "language_info": {
   "codemirror_mode": {
    "name": "ipython",
    "version": 3
   },
   "file_extension": ".py",
   "mimetype": "text/x-python",
   "name": "python",
   "nbconvert_exporter": "python",
   "pygments_lexer": "ipython3",
   "version": "3.8.8"
  }
 },
 "nbformat": 4,
 "nbformat_minor": 4
}
